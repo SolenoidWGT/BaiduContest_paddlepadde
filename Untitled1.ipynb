{
 "cells": [
  {
   "cell_type": "code",
   "execution_count": 6,
   "metadata": {},
   "outputs": [
    {
     "data": {
      "text/plain": [
       "2"
      ]
     },
     "execution_count": 6,
     "metadata": {},
     "output_type": "execute_result"
    }
   ],
   "source": [
    "filename='1'\n",
    "temp=int(filename)+1\n",
    "str(temp)\n",
    "filename=temp\n",
    "filename"
   ]
  },
  {
   "cell_type": "code",
   "execution_count": 7,
   "metadata": {},
   "outputs": [
    {
     "name": "stdout",
     "output_type": "stream",
     "text": [
      "1.csv\n"
     ]
    }
   ],
   "source": [
    "filename='1'\n",
    "shuffix='.csv'\n",
    "print(filename+shuffix)"
   ]
  },
  {
   "cell_type": "code",
   "execution_count": 8,
   "metadata": {},
   "outputs": [],
   "source": [
    "import csv"
   ]
  },
  {
   "cell_type": "code",
   "execution_count": null,
   "metadata": {},
   "outputs": [],
   "source": [
    "shuffix='.csv'\n",
    "datafile=file('ceshibusdata.csv','wb')\n",
    "writer=csv.writer(datafile)\n",
    "for i in range(20):\n",
    "    filename=str(i)\n",
    "    reader = pd.read_csv(filename+shuffix,chunksize=100000,usecols=[1,3,5,6,7,8,9])\n",
    "    frames=[]\n",
    "    for chunk in reader:\n",
    "        frames.append(chunk[(chunk.O_BUSNAME==80187)&(chunk.O_SPEED>0)])\n",
    "    result = pd.concat(frames)\n",
    "    result['O_TIME']=pd.to_datetime(result['O_TIME'],format=\"%H:%M:%S\")\n",
    "    result=result.sort_values(by='O_TIME')\n",
    "    result.set_index('O_TIME')\n",
    "    writer.writerows(result)\n",
    "datafile.close()"
   ]
  }
 ],
 "metadata": {
  "kernelspec": {
   "display_name": "Python 2",
   "language": "python",
   "name": "python2"
  },
  "language_info": {
   "codemirror_mode": {
    "name": "ipython",
    "version": 2
   },
   "file_extension": ".py",
   "mimetype": "text/x-python",
   "name": "python",
   "nbconvert_exporter": "python",
   "pygments_lexer": "ipython2",
   "version": "2.7.13"
  }
 },
 "nbformat": 4,
 "nbformat_minor": 2
}
