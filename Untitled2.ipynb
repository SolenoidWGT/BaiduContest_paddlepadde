{
 "cells": [
  {
   "cell_type": "code",
   "execution_count": 1,
   "metadata": {
    "scrolled": false
   },
   "outputs": [],
   "source": [
    "import numpy as np\n",
    "import pandas as pd\n",
    "import paddle.v2 as paddle\n",
    "from __future__ import print_function\n",
    "import matplotlib.pyplot as plt"
   ]
  },
  {
   "cell_type": "markdown",
   "metadata": {},
   "source": [
    "reader = pd.read_csv('busdata.csv',chunksize=100000,usecols=[1,3,5,6,7,8,9])\n",
    "frames=[]\n",
    "for chunk in reader:\n",
    "    frames.append(chunk[(chunk.O_BUSNAME==80187)&(chunk.O_SPEED>0)])\n",
    "result = pd.concat(frames)\n",
    "result['O_TIME']=pd.to_datetime(result['O_TIME'],format=\"%H:%M:%S\")\n",
    "result=result.sort_values(by='O_TIME')\n",
    "result.set_index('O_TIME')\n",
    "result.to_csv(\"238night_80187_result_sort.csv\")\n",
    "\n",
    "\n",
    "\n",
    "data = np.array(data)\n",
    "data = data.reshape(526,3)\n",
    "data"
   ]
  },
  {
   "cell_type": "code",
   "execution_count": 2,
   "metadata": {
    "scrolled": true
   },
   "outputs": [
    {
     "ename": "AttributeError",
     "evalue": "'Series' object has no attribute 'O_LONGITUDE'",
     "output_type": "error",
     "traceback": [
      "\u001b[0;31m---------------------------------------------------------------------------\u001b[0m",
      "\u001b[0;31mAttributeError\u001b[0m                            Traceback (most recent call last)",
      "\u001b[0;32m<ipython-input-2-0f482d9bafc7>\u001b[0m in \u001b[0;36m<module>\u001b[0;34m()\u001b[0m\n\u001b[1;32m      3\u001b[0m \u001b[0;32mfor\u001b[0m \u001b[0mindex\u001b[0m\u001b[0;34m,\u001b[0m\u001b[0mrow\u001b[0m \u001b[0;32min\u001b[0m \u001b[0mreader\u001b[0m\u001b[0;34m.\u001b[0m\u001b[0miterrows\u001b[0m\u001b[0;34m(\u001b[0m\u001b[0;34m)\u001b[0m\u001b[0;34m:\u001b[0m\u001b[0;34m\u001b[0m\u001b[0m\n\u001b[1;32m      4\u001b[0m     \u001b[0mdata\u001b[0m\u001b[0;34m.\u001b[0m\u001b[0mappend\u001b[0m\u001b[0;34m(\u001b[0m\u001b[0mfloat\u001b[0m\u001b[0;34m(\u001b[0m\u001b[0mrow\u001b[0m\u001b[0;34m.\u001b[0m\u001b[0mO_LATITUDE\u001b[0m\u001b[0;34m)\u001b[0m\u001b[0;34m)\u001b[0m\u001b[0;34m\u001b[0m\u001b[0m\n\u001b[0;32m----> 5\u001b[0;31m     \u001b[0mdata\u001b[0m\u001b[0;34m.\u001b[0m\u001b[0mappend\u001b[0m\u001b[0;34m(\u001b[0m\u001b[0mfloat\u001b[0m\u001b[0;34m(\u001b[0m\u001b[0mrow\u001b[0m\u001b[0;34m.\u001b[0m\u001b[0mO_LONGITUDE\u001b[0m\u001b[0;34m)\u001b[0m\u001b[0;34m)\u001b[0m\u001b[0;34m\u001b[0m\u001b[0m\n\u001b[0m\u001b[1;32m      6\u001b[0m     \u001b[0mdata\u001b[0m\u001b[0;34m.\u001b[0m\u001b[0mappend\u001b[0m\u001b[0;34m(\u001b[0m\u001b[0mfloat\u001b[0m\u001b[0;34m(\u001b[0m\u001b[0mrow\u001b[0m\u001b[0;34m.\u001b[0m\u001b[0mO_SPEED\u001b[0m\u001b[0;34m)\u001b[0m\u001b[0;34m)\u001b[0m\u001b[0;34m\u001b[0m\u001b[0m\n\u001b[1;32m      7\u001b[0m \u001b[0mdata\u001b[0m \u001b[0;34m=\u001b[0m \u001b[0mnp\u001b[0m\u001b[0;34m.\u001b[0m\u001b[0marray\u001b[0m\u001b[0;34m(\u001b[0m\u001b[0mdata\u001b[0m\u001b[0;34m)\u001b[0m\u001b[0;34m\u001b[0m\u001b[0m\n",
      "\u001b[0;32m/home/hp123/anaconda2/envs/paddlepaddlenew/lib/python2.7/site-packages/pandas/core/generic.pyc\u001b[0m in \u001b[0;36m__getattr__\u001b[0;34m(self, name)\u001b[0m\n\u001b[1;32m   4374\u001b[0m             \u001b[0;32mif\u001b[0m \u001b[0mself\u001b[0m\u001b[0;34m.\u001b[0m\u001b[0m_info_axis\u001b[0m\u001b[0;34m.\u001b[0m\u001b[0m_can_hold_identifiers_and_holds_name\u001b[0m\u001b[0;34m(\u001b[0m\u001b[0mname\u001b[0m\u001b[0;34m)\u001b[0m\u001b[0;34m:\u001b[0m\u001b[0;34m\u001b[0m\u001b[0m\n\u001b[1;32m   4375\u001b[0m                 \u001b[0;32mreturn\u001b[0m \u001b[0mself\u001b[0m\u001b[0;34m[\u001b[0m\u001b[0mname\u001b[0m\u001b[0;34m]\u001b[0m\u001b[0;34m\u001b[0m\u001b[0m\n\u001b[0;32m-> 4376\u001b[0;31m             \u001b[0;32mreturn\u001b[0m \u001b[0mobject\u001b[0m\u001b[0;34m.\u001b[0m\u001b[0m__getattribute__\u001b[0m\u001b[0;34m(\u001b[0m\u001b[0mself\u001b[0m\u001b[0;34m,\u001b[0m \u001b[0mname\u001b[0m\u001b[0;34m)\u001b[0m\u001b[0;34m\u001b[0m\u001b[0m\n\u001b[0m\u001b[1;32m   4377\u001b[0m \u001b[0;34m\u001b[0m\u001b[0m\n\u001b[1;32m   4378\u001b[0m     \u001b[0;32mdef\u001b[0m \u001b[0m__setattr__\u001b[0m\u001b[0;34m(\u001b[0m\u001b[0mself\u001b[0m\u001b[0;34m,\u001b[0m \u001b[0mname\u001b[0m\u001b[0;34m,\u001b[0m \u001b[0mvalue\u001b[0m\u001b[0;34m)\u001b[0m\u001b[0;34m:\u001b[0m\u001b[0;34m\u001b[0m\u001b[0m\n",
      "\u001b[0;31mAttributeError\u001b[0m: 'Series' object has no attribute 'O_LONGITUDE'"
     ]
    }
   ],
   "source": [
    "reader = pd.read_csv('238night_80187_result_sort.csv',usecols=[5,6,7])\n",
    "data = []\n",
    "for index,row in reader.iterrows():\n",
    "    data.append(float(row.O_LATITUDE))\n",
    "    data.append(float(row.O_LONGITUDE))\n",
    "    data.append(float(row.O_SPEED))\n",
    "data = np.array(data)\n",
    "data = data.reshape(526,3)\n",
    "data\n"
   ]
  },
  {
   "cell_type": "code",
   "execution_count": null,
   "metadata": {},
   "outputs": [],
   "source": [
    "data.max(axis=0)\n",
    "data.shape[1]"
   ]
  },
  {
   "cell_type": "code",
   "execution_count": null,
   "metadata": {},
   "outputs": [],
   "source": [
    "a = np.array([[1,5,3],[4,2,6]])\n",
    "a"
   ]
  },
  {
   "cell_type": "code",
   "execution_count": null,
   "metadata": {},
   "outputs": [],
   "source": [
    "b=a[0:2,2]\n",
    "b"
   ]
  },
  {
   "cell_type": "code",
   "execution_count": null,
   "metadata": {},
   "outputs": [],
   "source": [
    "c=a[0:2,2,np.newaxis]\n",
    "c"
   ]
  },
  {
   "cell_type": "code",
   "execution_count": null,
   "metadata": {},
   "outputs": [],
   "source": [
    "#获取训练集,axis=0表示列1.9485920957073588\n",
    "def get_train_data(train_number):\n",
    "    data_train = data[0:train_number]  #前train_number组数据作为训练集\n",
    "    maximums = data_train.max(axis=0)  #获取这个526*3数组的每一列的最大值，存储在maximums数组中\n",
    "    minimums = data_train.min(axis=0)  #同上\n",
    "    avgs = data_train.sum(axis=0) / data_train.shape[0]          #平均\n",
    "    normalized_train_data = (data_train - avgs) / (maximums - minimums)   #将整个数组标准化\n",
    "    train_x,train_y = [],[]      \n",
    "    train_x = normalized_train_data[0:train_number, :data.shape[1] - 1]  #训练集的前data.shape[1]-1个特征作为输入\n",
    "    train_y = normalized_train_data[0:train_number, data.shape[1] - 1, np.newaxis]  #最后一列作为输出\n",
    "    return train_x, train_y"
   ]
  },
  {
   "cell_type": "code",
   "execution_count": null,
   "metadata": {},
   "outputs": [],
   "source": [
    "#获取测试集\n",
    "def get_test_data(train_number):\n",
    "    data_test = data[train_number:]\n",
    "    maximums = data_test.max(axis=0)\n",
    "    minimums = data_test.min(axis=0)\n",
    "    avgs = data_test.sum(axis=0) / data_test.shape[0]\n",
    "    normalized_test_data = (data_test - avgs) / (maximums - minimums)  #数据归一化\n",
    "    test_x,test_y = [],[]  #在后面预测时，test_x作为预测输入，得到预测值与真实值test_y进行比较\n",
    "    test_x = normalized_test_data[0:train_number, :data.shape[1] - 1]\n",
    "    test_y = normalized_test_data[0:train_number, data.shape[1] - 1,np.newaxis]\n",
    "    return test_x, test_y"
   ]
  },
  {
   "cell_type": "markdown",
   "metadata": {
    "scrolled": true
   },
   "source": [
    "train_x, train_y=get_train_data(400)\n",
    "train_x.shape[0]\n",
    "out:400"
   ]
  },
  {
   "cell_type": "code",
   "execution_count": null,
   "metadata": {},
   "outputs": [],
   "source": [
    "def train_reader(train_x, train_y):\n",
    "    def reader():\n",
    "        for n in xrange(train_x.shape[0] - 20):\n",
    "            #用yield语句完成训练数据的读取功能（每次读取20组）\n",
    "            yield train_x[n:n+20], train_y[n:n+20]#每次读取20个数据，如0-20,1-21,2-22...\n",
    "    return reader"
   ]
  },
  {
   "cell_type": "code",
   "execution_count": null,
   "metadata": {},
   "outputs": [],
   "source": [
    "paddle.init(use_gpu=False, trainer_count=1)"
   ]
  },
  {
   "cell_type": "code",
   "execution_count": null,
   "metadata": {},
   "outputs": [],
   "source": [
    "#定义输入层\n",
    "x = paddle.layer.data(name='x', type=paddle.data_type.dense_vector_sequence(7))  #定义输入为7维序列数据\n",
    "x_to = paddle.layer.fc(input=x, size=4)   #四层的全链接层，size=4 "
   ]
  },
  {
   "cell_type": "code",
   "execution_count": null,
   "metadata": {},
   "outputs": [],
   "source": [
    "#定义输出层\n",
    "y_predict = paddle.layer.lstmemory(input=x_to, size=1, act=paddle.activation.Tanh())   #一层，size=1"
   ]
  },
  {
   "cell_type": "code",
   "execution_count": null,
   "metadata": {},
   "outputs": [],
   "source": [
    "#定义标签层\n",
    "y = paddle.layer.data(name='y', type=paddle.data_type.dense_vector_sequence(1))      #标签就是公交车各时刻的速度"
   ]
  },
  {
   "cell_type": "code",
   "execution_count": null,
   "metadata": {},
   "outputs": [],
   "source": [
    "#定义损失函数\n",
    "cost = paddle.layer.square_error_cost(input=y_predict, label=y)    #预测问题的损失函数常用平方误差损失"
   ]
  },
  {
   "cell_type": "code",
   "execution_count": null,
   "metadata": {},
   "outputs": [],
   "source": [
    "#利用cost创建parameters\n",
    "parameters = paddle.parameters.create(cost)          "
   ]
  },
  {
   "cell_type": "code",
   "execution_count": null,
   "metadata": {},
   "outputs": [],
   "source": [
    "#创建优化器\n",
    "optimizer = paddle.optimizer.Adam(learning_rate=0.003, regularization=paddle.optimizer.L2Regularization(rate=0.01))\n",
    "#学习率设置为0.003,采用L2正则化"
   ]
  },
  {
   "cell_type": "code",
   "execution_count": null,
   "metadata": {},
   "outputs": [],
   "source": [
    "# 定义feeding\n",
    "feeding = {'x': 0, 'y': 1}"
   ]
  },
  {
   "cell_type": "code",
   "execution_count": null,
   "metadata": {},
   "outputs": [],
   "source": [
    "#定义事件处理函数\n",
    "def event_handler(event):\n",
    "    if isinstance(event, paddle.event.EndIteration):\n",
    "        if event.batch_id % 100 == 0:        #100个batch之后输出损失函数\n",
    "            print(\"Pass %d, Batch %d, Cost %f\" % (\n",
    "                    event.pass_id, event.batch_id, event.cost))\n",
    "            \n",
    "    if isinstance(event, paddle.event.EndPass):\n",
    "        result = trainer.test(\n",
    "               reader=paddle.batch(\n",
    "                train_reader(train_x, train_y), batch_size=4),\n",
    "                feeding=feeding)            #\n",
    "        print(\"Test %d, Cost %f\" % (event.pass_id, result.cost))"
   ]
  },
  {
   "cell_type": "code",
   "execution_count": null,
   "metadata": {},
   "outputs": [],
   "source": [
    "#创建训练器\n",
    "trainer = paddle.trainer.SGD(cost=cost,\n",
    "                                 parameters=parameters,\n",
    "                                 update_equation=optimizer)"
   ]
  },
  {
   "cell_type": "code",
   "execution_count": null,
   "metadata": {
    "scrolled": true
   },
   "outputs": [],
   "source": [
    "# 获得训练数据\n",
    "train_x, train_y = get_train_data(400)\n",
    "#正式开始训练\n",
    "trainer.train(\n",
    "    reader=paddle.batch(paddle.reader.shuffle(train_reader(train_x, train_y), buf_size=60), batch_size=20),\n",
    "    feeding=feeding,    \n",
    "    event_handler=event_handler,num_passes=10000)  #训练200次"
   ]
  },
  {
   "cell_type": "code",
   "execution_count": null,
   "metadata": {},
   "outputs": [],
   "source": [
    "#得到测试集\n",
    "test_x, test_y = get_test_data(400)"
   ]
  },
  {
   "cell_type": "code",
   "execution_count": null,
   "metadata": {},
   "outputs": [],
   "source": [
    "data_test = data[400:,2]\n",
    "maximums = data_test.max(axis=0)\n",
    "minimums = data_test.min(axis=0)\n",
    "avgs = data_test.sum(axis=0) / data_test.shape[0]\n",
    "pre = []\n",
    "for i in range(126):\n",
    "    test_list = []\n",
    "    \n",
    "    #将test_x中的每一组数据转换成[[a1,a2,a3,a4,a5,a6,a7]]形式\n",
    "    test_list.append([list(test_x[i])])\n",
    "    \n",
    "    test_list = np.array(test_list)\n",
    "    \n",
    "    #得到每一组的预测值\n",
    "    probs = paddle.infer(output_layer = y_predict, parameters = parameters ,input = [test_list], feeding=feeding)\n",
    "    \n",
    "    #将预测值反归一化并保存在列表 pre中\n",
    "    probs = probs * (maximums - minimums) + avgs\n",
    "    pre.append(probs)\n"
   ]
  },
  {
   "cell_type": "code",
   "execution_count": null,
   "metadata": {},
   "outputs": [],
   "source": [
    "pred = []  #用列表pre存储预测值\n",
    "for i in pre:\n",
    "    i = float(i)\n",
    "    pred.append(i)"
   ]
  },
  {
   "cell_type": "code",
   "execution_count": null,
   "metadata": {},
   "outputs": [],
   "source": [
    "#预测结果图形化\n",
    "plt.figure()\n",
    "plt.plot(list(range(len(pred))), pred, color='b')  #蓝线为预测值\n",
    "plt.plot(list(range(len(pred))), data_test, color='\\\\r')  #红线为真实值\n",
    "plt.show()\n"
   ]
  },
  {
   "cell_type": "code",
   "execution_count": null,
   "metadata": {},
   "outputs": [],
   "source": [
    "#计算预测偏差\n",
    "acc = []\n",
    "#计算平均误差\n",
    "for i in range(len(pred)):\n",
    "    acc.append(np.abs((pred[i] - data_test[i]) / data_test[i]))\n",
    "acc = np.average(acc)\n",
    "print(acc)\n"
   ]
  }
 ],
 "metadata": {
  "kernelspec": {
   "display_name": "Python 2",
   "language": "python",
   "name": "python2"
  },
  "language_info": {
   "codemirror_mode": {
    "name": "ipython",
    "version": 2
   },
   "file_extension": ".py",
   "mimetype": "text/x-python",
   "name": "python",
   "nbconvert_exporter": "python",
   "pygments_lexer": "ipython2",
   "version": "2.7.14"
  }
 },
 "nbformat": 4,
 "nbformat_minor": 2
}
